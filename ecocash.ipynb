{
 "cells": [
  {
   "cell_type": "markdown",
   "metadata": {},
   "source": [
    "#### class Account\n",
    "#### methods - \"deposit, withdrawal, check Balance\"\n",
    "#### variables - \"amount, name, phone number, balance\""
   ]
  },
  {
   "cell_type": "code",
   "execution_count": 2,
   "metadata": {},
   "outputs": [],
   "source": [
    "class Account:\n",
    "    def __init__(self, name, phone_number, balance):\n",
    "        self.name = name\n",
    "        self.phone_number = phone_number\n",
    "        self.balance = balance\n",
    "        print(f\"Account created successfully\\r\\n{self.name}\\r\\nphone number:{self.phone_number}\\r\\nBalance:{self.balance}\")\n",
    "        \n",
    "    def deposit(self, amount):\n",
    "        try:\n",
    "            if amount <= 0:\n",
    "             raise Exception(\"deposit was unsuccessful\")\n",
    "        except Exception as E:\n",
    "            print(\"E\")\n",
    "        else:\n",
    "         self.balance += amount\n",
    "        print(f\"Amount has been successfully deposited)\\r\\n balance: {self.balance}\")\n",
    "        \n",
    "    def withdrawal(self, amount):\n",
    "        if amount > self.balance:\n",
    "           print(f\"insufficient funds\")\n",
    "        else:\n",
    "           self.balance -= amount\n",
    "           print(f\"the remaining balance: {self.balance}\")\n",
    "               \n",
    "    def check_balance(self):\n",
    "         print(\"balance\")\n",
    "             \n",
    "             "
   ]
  },
  {
   "cell_type": "code",
   "execution_count": 21,
   "metadata": {},
   "outputs": [
    {
     "name": "stdout",
     "output_type": "stream",
     "text": [
      "Account created successfully\n",
      "Ruva\n",
      "phone number:0712724929\n",
      "Balance:1000\n"
     ]
    }
   ],
   "source": [
    "my_account = Account(\"Ruva\", \"0712724929\", 1000)"
   ]
  },
  {
   "cell_type": "code",
   "execution_count": 24,
   "metadata": {},
   "outputs": [
    {
     "name": "stdout",
     "output_type": "stream",
     "text": [
      "insufficient funds\n"
     ]
    }
   ],
   "source": [
    "my_account.withdrawal(1500)"
   ]
  },
  {
   "cell_type": "code",
   "execution_count": 25,
   "metadata": {},
   "outputs": [
    {
     "name": "stdout",
     "output_type": "stream",
     "text": [
      "the remaining balance\n"
     ]
    }
   ],
   "source": [
    "my_account.withdrawal(500)"
   ]
  },
  {
   "cell_type": "code",
   "execution_count": 27,
   "metadata": {},
   "outputs": [
    {
     "name": "stdout",
     "output_type": "stream",
     "text": [
      "balance\n"
     ]
    }
   ],
   "source": [
    "my_account.check_balance()"
   ]
  },
  {
   "cell_type": "code",
   "execution_count": 28,
   "metadata": {},
   "outputs": [
    {
     "data": {
      "text/plain": [
       "500"
      ]
     },
     "execution_count": 28,
     "metadata": {},
     "output_type": "execute_result"
    }
   ],
   "source": [
    "my_account.balance"
   ]
  },
  {
   "cell_type": "code",
   "execution_count": 29,
   "metadata": {},
   "outputs": [
    {
     "name": "stdout",
     "output_type": "stream",
     "text": [
      "Amount has been successfully deposited)\n",
      " balance: 1100\n"
     ]
    }
   ],
   "source": [
    "my_account.deposit(600)"
   ]
  },
  {
   "cell_type": "code",
   "execution_count": 31,
   "metadata": {},
   "outputs": [
    {
     "name": "stdout",
     "output_type": "stream",
     "text": [
      "the remaining balance\n"
     ]
    }
   ],
   "source": [
    "my_account.withdrawal(-200)"
   ]
  },
  {
   "cell_type": "code",
   "execution_count": null,
   "metadata": {},
   "outputs": [],
   "source": []
  }
 ],
 "metadata": {
  "kernelspec": {
   "display_name": "base",
   "language": "python",
   "name": "python3"
  },
  "language_info": {
   "codemirror_mode": {
    "name": "ipython",
    "version": 3
   },
   "file_extension": ".py",
   "mimetype": "text/x-python",
   "name": "python",
   "nbconvert_exporter": "python",
   "pygments_lexer": "ipython3",
   "version": "3.7.6"
  }
 },
 "nbformat": 4,
 "nbformat_minor": 2
}
